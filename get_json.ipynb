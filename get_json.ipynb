{
 "cells": [
  {
   "cell_type": "code",
   "execution_count": 152,
   "id": "a3252a99-5ad5-406c-becd-7ac53e33d9bc",
   "metadata": {},
   "outputs": [],
   "source": [
    "import pandas as pd\n",
    "import numpy as np\n",
    "import re"
   ]
  },
  {
   "cell_type": "code",
   "execution_count": null,
   "id": "e2c4e561-86b5-49d1-b268-2fecc5400c39",
   "metadata": {},
   "outputs": [],
   "source": []
  },
  {
   "cell_type": "code",
   "execution_count": 181,
   "id": "48b38080-de5b-40d5-a9ff-670378db00cf",
   "metadata": {},
   "outputs": [],
   "source": [
    "def remove_pic(text):\n",
    "    pattern = r'shown below[.?:]'\n",
    "    cleaned_text = re.sub(pattern, '', text)\n",
    "    cleaned_text = ' '.join(cleaned_text.split())\n",
    "    return cleaned_text\n",
    "\n",
    "def modify_answers(text):\n",
    "    pattern = r'Multiple Choice Questions.*'\n",
    "    cleaned_text = re.sub(pattern, '', str(text))\n",
    "    cleaned_text = ' '.join(cleaned_text.split())\n",
    "    return cleaned_text\n",
    "\n",
    "def covert(df):\n",
    "    A = modify_answers(df[\"A\"])\n",
    "    B = modify_answers(df[\"B\"])\n",
    "    C = modify_answers(df[\"C\"])\n",
    "    D = modify_answers(df[\"D\"])\n",
    "    E = modify_answers(df[\"E\"])\n",
    "    choices = [\"A\", \"B\", \"C\", \"D\", \"E\"]\n",
    "\n",
    "    #if pd.isna(df[\"E\"]):\n",
    "     #   choices.pop()\n",
    "    \n",
    "    #question = remove_pic(df[\"Question\"])\n",
    "\n",
    "    text =  \"Choose the most correct answer and provide the reasons. \" + df[\"Question\"]\n",
    "\n",
    "    \n",
    "    text += \" \\n \" + A + \" \\n \" + B + \" \\n \"  + C + \" \\n \" +D + \" \\n \" + E \n",
    "        \n",
    "    text += '\\n You should generate the output in the following format: \"[' + \"/\".join(choices) + ']. [Reasons].\"'\n",
    "\n",
    "    #text += '\\n Correct ' + df[\"Answer\"]\n",
    "    #text += '\\n Explaination' + df[\"explaination\"]\n",
    "\n",
    "    reason = \" \\n Reason: \" + df[\"explaination\"]\n",
    "\n",
    "    \n",
    "    dic = {\n",
    "        \"question_id\": df[\"id\"],\n",
    "        \"image\": df[\"image\"],\n",
    "        \"text\": text,\n",
    "        \"Correct Answer\": df[\"Answer\"] + reason\n",
    "          }\n",
    "    \n",
    "    return dic\n",
    "\n",
    "data = pd.read_csv('final.csv')\n",
    "#data = data[~data[\"Question\"].str.contains(\"shown below.\")]\n",
    "#data = data[~data[\"Question\"].str.contains(\"shown below?\")]\n",
    "data[\"id\"] = np.arange(1, len(data)+1)\n",
    "data = list(data.apply(covert, axis=1))"
   ]
  },
  {
   "cell_type": "code",
   "execution_count": 183,
   "id": "39695e4a-62c4-472e-8ede-88a5c9a9ec4d",
   "metadata": {},
   "outputs": [],
   "source": [
    "import json\n",
    "file_path = 'data.jsonl'\n",
    "\n",
    "\n",
    "with open(file_path, 'w') as file:\n",
    "    for entry in data:\n",
    "        file.write(json.dumps(entry) + '\\n')"
   ]
  },
  {
   "cell_type": "code",
   "execution_count": null,
   "id": "c7cd8e07-7f2c-4d93-aea3-3f5b130bd5ce",
   "metadata": {},
   "outputs": [],
   "source": []
  },
  {
   "cell_type": "code",
   "execution_count": null,
   "id": "332aeed1-d881-42fe-8a92-e6684e79f2af",
   "metadata": {},
   "outputs": [],
   "source": []
  },
  {
   "cell_type": "code",
   "execution_count": null,
   "id": "43ded543-3ee8-490d-8568-e1331b58a378",
   "metadata": {},
   "outputs": [],
   "source": []
  }
 ],
 "metadata": {
  "kernelspec": {
   "display_name": "Python 3 (ipykernel)",
   "language": "python",
   "name": "python3"
  },
  "language_info": {
   "codemirror_mode": {
    "name": "ipython",
    "version": 3
   },
   "file_extension": ".py",
   "mimetype": "text/x-python",
   "name": "python",
   "nbconvert_exporter": "python",
   "pygments_lexer": "ipython3",
   "version": "3.11.5"
  }
 },
 "nbformat": 4,
 "nbformat_minor": 5
}
