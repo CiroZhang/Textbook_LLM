{
 "cells": [
  {
   "cell_type": "code",
   "execution_count": 1,
   "id": "f8a05d13-70bc-46df-b253-7dee149fdb42",
   "metadata": {},
   "outputs": [
    {
     "name": "stdout",
     "output_type": "stream",
     "text": [
      "Requirement already satisfied: PyPDF2 in /Users/cirozhang/anaconda3/lib/python3.11/site-packages (3.0.1)\n"
     ]
    }
   ],
   "source": [
    "!pip install PyPDF2"
   ]
  },
  {
   "cell_type": "code",
   "execution_count": 2,
   "id": "dbb5515c-19da-4e3e-9ebe-42979e65b5a1",
   "metadata": {},
   "outputs": [],
   "source": [
    "from PyPDF2 import PdfReader\n",
    "\n",
    "\n",
    "def read(file_path, start, end):\n",
    "    result = []\n",
    "    \n",
    "    with open(file_path, 'rb') as file:\n",
    "        pdf_reader = PdfReader(file)\n",
    "        num_pages = len(pdf_reader.pages)\n",
    "\n",
    "        if end > num_pages:\n",
    "            print(\"end number outside of total pages\")\n",
    "            return None\n",
    "        \n",
    "        for page_num in range(start, end):\n",
    "            page = pdf_reader.pages[page_num]\n",
    "            text = page.extract_text()\n",
    "\n",
    "            \n",
    "            result.append(text)\n",
    "    return result\n"
   ]
  },
  {
   "cell_type": "code",
   "execution_count": 6,
   "id": "be982d36-fbfb-4cba-8503-f05a84f42547",
   "metadata": {},
   "outputs": [
    {
     "data": {
      "text/plain": [
       "['',\n",
       " 'The chapter authors are the heart and soul of this text and\\ntheir efforts over multiple editions have made this book the\\nasset to pathologists that it has become. My own contri-\\nbutions would not have been possible without the support\\nof my friends and family, especially my wife, Linda. Our\\ndaughters, Elizabeth and Anne, now married and start-\\ning families of their own continue to be sources of pride,\\ninspiration and insight about all things beyond pathol-ogy. I remain indebted to my early mentors, Ben Sturgill,\\nShannon Allen, Bob Fechner and Phil Cooper who got me\\nstarted on the right path, to Dick Kempson my \"adopted\"\\nwest coast mentor and good friend, and to all my colleagues\\nat the University of Virginia and our trainees from whom I\\ncontinue to learn and hope to do so for a long time to come.\\nStacey E.Mills) MD\\nXVII\\n']"
      ]
     },
     "execution_count": 6,
     "metadata": {},
     "output_type": "execute_result"
    }
   ],
   "source": [
    "textbook = \"Histology for Pathologists 4.pdf\"\n",
    "starting_page = 17\n",
    "ending_page = 19\n",
    "\n",
    "\n",
    "read(\"Histology for Pathologists 4.pdf\", starting_page, ending_page)"
   ]
  },
  {
   "cell_type": "code",
   "execution_count": null,
   "id": "c844c507-acf5-47a9-a07c-41037834f42a",
   "metadata": {},
   "outputs": [],
   "source": []
  }
 ],
 "metadata": {
  "kernelspec": {
   "display_name": "Python 3 (ipykernel)",
   "language": "python",
   "name": "python3"
  },
  "language_info": {
   "codemirror_mode": {
    "name": "ipython",
    "version": 3
   },
   "file_extension": ".py",
   "mimetype": "text/x-python",
   "name": "python",
   "nbconvert_exporter": "python",
   "pygments_lexer": "ipython3",
   "version": "3.11.5"
  }
 },
 "nbformat": 4,
 "nbformat_minor": 5
}
