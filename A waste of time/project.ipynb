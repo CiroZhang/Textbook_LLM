{
 "cells": [
  {
   "cell_type": "code",
   "execution_count": 144,
   "id": "f8a05d13-70bc-46df-b253-7dee149fdb42",
   "metadata": {},
   "outputs": [
    {
     "name": "stdout",
     "output_type": "stream",
     "text": [
      "Requirement already satisfied: PyPDF2 in /Users/cirozhang/anaconda3/lib/python3.11/site-packages (3.0.1)\n",
      "Requirement already satisfied: pymupdf in /Users/cirozhang/anaconda3/lib/python3.11/site-packages (1.24.7)\n",
      "Requirement already satisfied: Pillow in /Users/cirozhang/anaconda3/lib/python3.11/site-packages (10.2.0)\n",
      "Requirement already satisfied: pytesseract in /Users/cirozhang/anaconda3/lib/python3.11/site-packages (0.3.10)\n",
      "Requirement already satisfied: PyMuPDFb==1.24.6 in /Users/cirozhang/anaconda3/lib/python3.11/site-packages (from pymupdf) (1.24.6)\n",
      "Requirement already satisfied: packaging>=21.3 in /Users/cirozhang/anaconda3/lib/python3.11/site-packages (from pytesseract) (23.2)\n"
     ]
    }
   ],
   "source": [
    "!pip install PyPDF2\n",
    "!pip install pymupdf Pillow pytesseract"
   ]
  },
  {
   "cell_type": "markdown",
   "id": "eeaca9db-2874-459c-a8e0-c0c07ffe3f98",
   "metadata": {},
   "source": [
    "# File Reading: #"
   ]
  },
  {
   "cell_type": "code",
   "execution_count": 1,
   "id": "dbb5515c-19da-4e3e-9ebe-42979e65b5a1",
   "metadata": {},
   "outputs": [],
   "source": [
    "from PyPDF2 import PdfReader\n",
    "import numpy as np\n",
    "import re\n",
    "\n",
    "def header_filter(text):\n",
    "    if \"\\n\" not in text:\n",
    "        return text\n",
    "    return text[text.find(\"\\n\", 1):]\n",
    "\n",
    "def number_reference_filter(text):\n",
    "    regex = r'\\s*\\(.*?\\)'\n",
    "    return re.sub(regex, '', text)\n",
    "\n",
    "def page_number_filter(text):\n",
    "    lines = text.strip().split('\\n')\n",
    "    if re.match(r'^\\d+$', lines[-1]):\n",
    "        lines = lines[:-1]\n",
    "    \n",
    "    return '\\n'.join(lines)\n",
    "\n",
    "def dot_filter(text):\n",
    "    return text.replace(\"• \", \"\")\n",
    "\n",
    "\n",
    "def multiple_dots_commas_filter(text):\n",
    "    pattern = r'([.,]){2,}'\n",
    "    result = re.sub(pattern, '', text)\n",
    "    return result\n",
    "\n",
    "def read(file_path, start, end):\n",
    "    result = []\n",
    "    \n",
    "    with open(file_path, 'rb') as file:\n",
    "        pdf_reader = PdfReader(file)\n",
    "        num_pages = len(pdf_reader.pages)\n",
    "\n",
    "        if end > num_pages:\n",
    "            print(\"end number outside of total pages\")\n",
    "            return None\n",
    "        \n",
    "        for page_num in range(start, end):\n",
    "            page = pdf_reader.pages[page_num]\n",
    "            text = page.extract_text()\n",
    "\n",
    "            text = header_filter(text)\n",
    "            text = dot_filter(text)\n",
    "            text = number_reference_filter(text)\n",
    "            text = page_number_filter(text)\n",
    "            text = multiple_dots_commas_filter(text)\n",
    "            \n",
    "            \n",
    "            result.append(text)\n",
    "            \n",
    "    return np.array(result)\n"
   ]
  },
  {
   "cell_type": "markdown",
   "id": "7abe052b-3cee-42ff-9f53-22509975fa66",
   "metadata": {},
   "source": [
    "# Text Processing: #"
   ]
  },
  {
   "cell_type": "code",
   "execution_count": 2,
   "id": "3575ca10-582d-4737-a233-056b6e696098",
   "metadata": {},
   "outputs": [],
   "source": [
    "import numpy as np\n",
    "    \n",
    "def line_filter(text):\n",
    "    return text.replace(\"-\\n\", \"\").replace(\"\\n\", \" \")\n",
    "\n",
    "\n",
    "def figure_filter(text):\n",
    "    pattern = r'\\(?FIGURES? \\d+(\\.\\d+)*(, \\d+(\\.\\d+)*)*\\)?'\n",
    "    text = re.sub(pattern, '', text)\n",
    "    text = re.sub(r'\\s{2,}', ' ', text).strip()\n",
    "\n",
    "    pattern = r'\\(?Figures? \\d+(\\.\\d+)*(, \\d+(\\.\\d+)*)*\\)?'\n",
    "    result = re.sub(pattern, '', text)\n",
    "    result = re.sub(r'\\s{2,}', ' ', result).strip()\n",
    "    return result"
   ]
  },
  {
   "cell_type": "code",
   "execution_count": 3,
   "id": "c844c507-acf5-47a9-a07c-41037834f42a",
   "metadata": {},
   "outputs": [],
   "source": [
    "def convert(dictionary, texts):\n",
    "\n",
    "    sections = []\n",
    "    chapters = []\n",
    "    \n",
    "    current_section = \"\"\n",
    "    for page_content in texts:\n",
    "        for line in page_content.split(\"\\n\"):\n",
    "            if line.replace(\" \", \"\")[0:6] == \"FIGURE\":\n",
    "                continue\n",
    "\n",
    "            \n",
    "            if line in dictionary.keys():\n",
    "                current_section = figure_filter(current_section)\n",
    "                sections.append(current_section)\n",
    "    \n",
    "                if type(dictionary[line]) == dict:\n",
    "                    chapters = dictionary[line].keys()\n",
    "                else:\n",
    "                    chapters = []\n",
    "                    \n",
    "                current_section = \"\"\n",
    "                continue\n",
    "    \n",
    "            if line in chapters:\n",
    "                continue\n",
    "    \n",
    "            if line and line[-1] == \"-\":\n",
    "                current_section += line\n",
    "                \n",
    "            else:\n",
    "                current_section += line + \" \"\n",
    "    \n",
    "    \n",
    "    sections.append(current_section)\n",
    "    sections.pop(0)\n",
    "    return sections\n"
   ]
  },
  {
   "cell_type": "markdown",
   "id": "ffdc8bfc-328b-4dfe-879a-7a694b401aa6",
   "metadata": {},
   "source": [
    "# Final Pipeline #"
   ]
  },
  {
   "cell_type": "code",
   "execution_count": 8,
   "id": "8d10073f-51e8-4727-9c7a-19cac8f1ddf8",
   "metadata": {},
   "outputs": [],
   "source": [
    "textbook = \"Histology for Pathologists 4.pdf\"\n",
    "chapters = [3, 31, 67, 85, 107, 131, 179, 211, 233, 261, 295, 343, 375, 399, 433, 461, 477, 505, 541, 563, 585, 605, 633, 647, 673, 697, 709, 733, 759, 777, 819, 835, 849, 891, 971, 987, 1003, 1027, 1045, 1059, 1071, 1119, 1149, 1185, 1209, 1231, 1255, 1277]\n",
    "\n",
    "import json\n",
    "\n",
    "with open('TOC.json', 'r') as json_file:\n",
    "    sections = json.load(json_file)"
   ]
  },
  {
   "cell_type": "code",
   "execution_count": 9,
   "id": "2abffe46-3bd1-4bff-b786-c213a04c6d0b",
   "metadata": {},
   "outputs": [],
   "source": [
    "results = []\n",
    "for i in range(len(sections)):\n",
    "    starting_page = chapters[i] + 26\n",
    "    ending_page = chapters[i+1] + 26\n",
    "\n",
    "    texts = read(textbook, starting_page - 1, ending_page - 1)\n",
    "    results.append(convert(sections[i], texts))\n",
    "\n"
   ]
  },
  {
   "cell_type": "markdown",
   "id": "4257cde4-67a2-4e32-b7e0-439bb770e4dd",
   "metadata": {},
   "source": [
    "# File Output #"
   ]
  },
  {
   "cell_type": "code",
   "execution_count": 10,
   "id": "f882b511-8555-4e26-a1ef-f7159d6b32f0",
   "metadata": {},
   "outputs": [],
   "source": [
    "def write_to_file(file_path, text):\n",
    "    with open(file_path, 'w') as file:\n",
    "        file.write(text)\n"
   ]
  },
  {
   "cell_type": "code",
   "execution_count": 12,
   "id": "ea880ef7-18ba-4358-a035-57422160b137",
   "metadata": {},
   "outputs": [
    {
     "name": "stdout",
     "output_type": "stream",
     "text": [
      "0 0\n",
      "0 1\n",
      "0 2\n",
      "0 3\n",
      "0 4\n",
      "0 5\n",
      "0 6\n",
      "0 7\n",
      "1 0\n",
      "1 1\n",
      "1 2\n",
      "1 3\n",
      "1 4\n",
      "1 5\n",
      "1 6\n",
      "1 7\n",
      "1 8\n",
      "1 9\n",
      "1 10\n",
      "1 11\n",
      "2 0\n",
      "2 1\n",
      "2 2\n",
      "2 3\n",
      "2 4\n",
      "2 5\n",
      "2 6\n",
      "2 7\n",
      "2 8\n",
      "3 0\n",
      "3 1\n",
      "4 0\n",
      "4 1\n",
      "4 2\n",
      "4 3\n",
      "4 4\n",
      "4 5\n",
      "5 0\n",
      "5 1\n",
      "5 2\n",
      "5 3\n",
      "5 4\n",
      "5 5\n",
      "6 0\n",
      "6 1\n",
      "6 2\n",
      "6 3\n",
      "6 4\n",
      "6 5\n",
      "6 6\n",
      "6 7\n",
      "6 8\n",
      "6 9\n",
      "7 0\n",
      "7 1\n",
      "7 2\n",
      "7 3\n",
      "7 4\n",
      "7 5\n",
      "7 6\n",
      "7 7\n",
      "7 8\n",
      "7 9\n",
      "7 10\n",
      "7 11\n",
      "8 0\n",
      "9 0\n",
      "9 1\n",
      "9 2\n",
      "9 3\n",
      "9 4\n",
      "10 0\n",
      "10 1\n",
      "10 2\n",
      "10 3\n",
      "10 4\n",
      "10 5\n",
      "11 0\n",
      "11 1\n",
      "11 2\n",
      "11 3\n",
      "11 4\n",
      "12 0\n",
      "12 1\n",
      "12 2\n",
      "12 3\n",
      "12 4\n",
      "12 5\n",
      "12 6\n",
      "12 7\n",
      "12 8\n",
      "12 9\n",
      "12 10\n",
      "12 11\n",
      "12 12\n",
      "13 0\n",
      "13 1\n",
      "13 2\n",
      "13 3\n",
      "13 4\n",
      "13 5\n",
      "13 6\n",
      "13 7\n"
     ]
    },
    {
     "ename": "IndexError",
     "evalue": "list index out of range",
     "output_type": "error",
     "traceback": [
      "\u001b[0;31m---------------------------------------------------------------------------\u001b[0m",
      "\u001b[0;31mIndexError\u001b[0m                                Traceback (most recent call last)",
      "Cell \u001b[0;32mIn[12], line 4\u001b[0m\n\u001b[1;32m      2\u001b[0m \u001b[38;5;28;01mfor\u001b[39;00m j \u001b[38;5;129;01min\u001b[39;00m \u001b[38;5;28mrange\u001b[39m(\u001b[38;5;28mlen\u001b[39m(results[i])):\n\u001b[1;32m      3\u001b[0m     \u001b[38;5;28mprint\u001b[39m(i, j)\n\u001b[0;32m----> 4\u001b[0m     write_to_file(\u001b[38;5;124m\"\u001b[39m\u001b[38;5;124moutputs/Chapter_\u001b[39m\u001b[38;5;124m\"\u001b[39m \u001b[38;5;241m+\u001b[39m \u001b[38;5;28mstr\u001b[39m(i\u001b[38;5;241m+\u001b[39m\u001b[38;5;241m1\u001b[39m) \u001b[38;5;241m+\u001b[39m \u001b[38;5;124m\"\u001b[39m\u001b[38;5;124m_\u001b[39m\u001b[38;5;124m\"\u001b[39m \u001b[38;5;241m+\u001b[39m \u001b[38;5;28mlist\u001b[39m(sections[i]\u001b[38;5;241m.\u001b[39mkeys())[j] \u001b[38;5;241m+\u001b[39m \u001b[38;5;124m\"\u001b[39m\u001b[38;5;124m.txt\u001b[39m\u001b[38;5;124m\"\u001b[39m, results[i][j])\n",
      "\u001b[0;31mIndexError\u001b[0m: list index out of range"
     ]
    }
   ],
   "source": [
    "for i in range(len(results)):\n",
    "    for j in range(len(results[i])):\n",
    "        print(i, j)\n",
    "        write_to_file(\"outputs/Chapter_\" + str(i+1) + \"_\" + list(sections[i].keys())[j] + \".txt\", results[i][j])\n"
   ]
  },
  {
   "cell_type": "code",
   "execution_count": null,
   "id": "35d41024-35bd-4140-a4ff-2a462f2a54c2",
   "metadata": {},
   "outputs": [],
   "source": []
  },
  {
   "cell_type": "code",
   "execution_count": null,
   "id": "c02285f3-5e2e-459b-8956-af004265cf3b",
   "metadata": {},
   "outputs": [],
   "source": []
  },
  {
   "cell_type": "code",
   "execution_count": null,
   "id": "3b189705-aef5-4f0d-b0d5-82ba9197ab07",
   "metadata": {},
   "outputs": [],
   "source": []
  },
  {
   "cell_type": "code",
   "execution_count": null,
   "id": "eb30d080-ca16-4786-8526-9fb137e3bdf1",
   "metadata": {},
   "outputs": [],
   "source": []
  }
 ],
 "metadata": {
  "kernelspec": {
   "display_name": "Python 3 (ipykernel)",
   "language": "python",
   "name": "python3"
  },
  "language_info": {
   "codemirror_mode": {
    "name": "ipython",
    "version": 3
   },
   "file_extension": ".py",
   "mimetype": "text/x-python",
   "name": "python",
   "nbconvert_exporter": "python",
   "pygments_lexer": "ipython3",
   "version": "3.11.5"
  }
 },
 "nbformat": 4,
 "nbformat_minor": 5
}
