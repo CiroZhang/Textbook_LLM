{
 "cells": [
  {
   "cell_type": "code",
   "execution_count": 20,
   "id": "e58a585b-f867-4078-bc4c-733308396da9",
   "metadata": {},
   "outputs": [],
   "source": [
    "from PyPDF2 import PdfReader\n",
    "import fitz  \n",
    "import os\n",
    "import shutil\n",
    "import re\n",
    "import pandas as pd\n",
    "\n",
    "\n",
    "# Read pdf file from pages start to end, outputs all images in image_folder\n",
    "\n",
    "def read(file_path, start, end, image_folder):\n",
    "    \n",
    "    result = []\n",
    "    \n",
    "    with open(file_path, 'rb') as file:\n",
    "        pdf_reader = PdfReader(file)\n",
    "        num_pages = len(pdf_reader.pages)\n",
    "        if end > num_pages:\n",
    "            print(\"end number outside of total pages\")\n",
    "            return None\n",
    "\n",
    "\n",
    "        if os.path.exists(image_folder):\n",
    "            shutil.rmtree(image_folder)\n",
    "        os.makedirs(image_folder)\n",
    "        \n",
    "        for page_num in range(start, end):\n",
    "\n",
    "            # Text extraction\n",
    "            doc = pdf_reader.pages[page_num]\n",
    "            text = doc.extract_text()\n",
    "            result.append(text)\n",
    "\n",
    "            # Image extraction\n",
    "            doc = fitz.open(file_path)\n",
    "            image_list = doc.get_page_images(page_num)\n",
    "\n",
    "            for i in range(len(image_list)):\n",
    "                img = image_list[i]\n",
    "                xref = img[0]\n",
    "                pix = fitz.Pixmap(doc, xref)\n",
    "                pix = fitz.Pixmap(fitz.csRGB, pix)\n",
    "                pix.save(os.path.join(image_folder, \"page_{}_{}.png\".format(page_num+1,i)))\n",
    "            \n",
    "\n",
    "    return result"
   ]
  },
  {
   "cell_type": "code",
   "execution_count": 21,
   "id": "6b698125-90bd-4449-a839-b938dd7810ea",
   "metadata": {},
   "outputs": [],
   "source": [
    "textbook = \"Sternberg.pdf\"\n",
    "contents = read(textbook, 1, 200, \"images\")"
   ]
  },
  {
   "cell_type": "code",
   "execution_count": 22,
   "id": "f4333997-b69a-4e1c-b10d-a854796d4174",
   "metadata": {},
   "outputs": [],
   "source": [
    "data = []\n",
    "\n",
    "d = {}\n",
    "for i in range(len(contents)):\n",
    "    figures = re.findall(r'(Figure \\d+\\.\\d+\\. [\\s\\S]*?)(?=\\n[A-Z0-9]|\\Z)', contents[i])\n",
    "    figures = [' '.join(s.splitlines()).strip().replace(\"- \", \"\") for s in figures]\n",
    "\n",
    "    \n",
    "    if len(figures) > 0:\n",
    "        page_number = i + 2\n",
    "\n",
    "        f = []\n",
    "        \n",
    "        for figure in figures:\n",
    "            figure_number = match = re.search(r'Figure \\d+\\.\\d+\\.', figure).group(0)\n",
    "            figure_desc = re.sub(r'Figure \\d+\\.\\d+\\.\\s*', '', figure)\n",
    "            data.append([figure_desc, (\"outputs/\" + figure_number+\"png\").replace(\" \", \"_\")])\n",
    "            \n",
    "            f.append(figure_number)\n",
    "        d[page_number] = f"
   ]
  },
  {
   "cell_type": "code",
   "execution_count": 23,
   "id": "801d1639-3820-4a23-8514-18b38d046517",
   "metadata": {},
   "outputs": [],
   "source": [
    "if os.path.exists(\"outputs\"):\n",
    "    shutil.rmtree(\"outputs\")\n",
    "os.makedirs(\"outputs\")\n",
    "\n",
    "missing = []\n",
    "for page, figs in d.items():\n",
    "\n",
    "    for i in range(len(figs)):\n",
    "        if os.path.exists(\"images/page_{}_{}.png\".format(page,i)):\n",
    "            os.rename(\"images/page_{}_{}.png\".format(page,i) , \"outputs/{}png\".format(figs[i].replace(\" \", \"_\")))\n",
    "        else:\n",
    "            missing.append(figs[i])"
   ]
  },
  {
   "cell_type": "code",
   "execution_count": 24,
   "id": "ce17eff2-25dd-41ad-b98d-fa393d686585",
   "metadata": {},
   "outputs": [
    {
     "name": "stdout",
     "output_type": "stream",
     "text": [
      "['Figure 2.3.', 'Figure 2.5.', 'Figure 2.4.', 'Figure 2.6.']\n"
     ]
    }
   ],
   "source": [
    "print(missing)\n",
    "\n",
    "df = pd.DataFrame(data)\n",
    "df.columns = [\"text\", \"file_path\"]\n",
    "\n",
    "df.to_json('output.jsonl', orient='records', lines=True)"
   ]
  }
 ],
 "metadata": {
  "kernelspec": {
   "display_name": "Python 3 (ipykernel)",
   "language": "python",
   "name": "python3"
  },
  "language_info": {
   "codemirror_mode": {
    "name": "ipython",
    "version": 3
   },
   "file_extension": ".py",
   "mimetype": "text/x-python",
   "name": "python",
   "nbconvert_exporter": "python",
   "pygments_lexer": "ipython3",
   "version": "3.11.5"
  }
 },
 "nbformat": 4,
 "nbformat_minor": 5
}
