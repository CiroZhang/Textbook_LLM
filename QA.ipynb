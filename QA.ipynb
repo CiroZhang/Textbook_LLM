{
 "cells": [
  {
   "cell_type": "code",
   "execution_count": 512,
   "id": "d1272493-0b42-4987-b8e3-68ff33fae313",
   "metadata": {},
   "outputs": [
    {
     "name": "stdout",
     "output_type": "stream",
     "text": [
      "Requirement already satisfied: PyPDF2 in /Users/jeffreyhe/anaconda3/lib/python3.11/site-packages (3.0.1)\n",
      "Requirement already satisfied: pymupdf in /Users/jeffreyhe/anaconda3/lib/python3.11/site-packages (1.24.7)\n",
      "Requirement already satisfied: Pillow in /Users/jeffreyhe/anaconda3/lib/python3.11/site-packages (10.0.1)\n",
      "Requirement already satisfied: pytesseract in /Users/jeffreyhe/anaconda3/lib/python3.11/site-packages (0.3.10)\n",
      "Requirement already satisfied: PyMuPDFb==1.24.6 in /Users/jeffreyhe/anaconda3/lib/python3.11/site-packages (from pymupdf) (1.24.6)\n",
      "Requirement already satisfied: packaging>=21.3 in /Users/jeffreyhe/anaconda3/lib/python3.11/site-packages (from pytesseract) (23.1)\n"
     ]
    }
   ],
   "source": [
    "!pip install PyPDF2\n",
    "!pip install pymupdf Pillow pytesseract"
   ]
  },
  {
   "cell_type": "code",
   "execution_count": 513,
   "id": "6087b5eb-05e4-4ac6-bd79-669e623c596e",
   "metadata": {},
   "outputs": [],
   "source": [
    "from PyPDF2 import PdfReader\n",
    "import fitz  # PyMuPDF\n",
    "import os\n",
    "import shutil\n",
    "\n",
    "def get_pic(page_num):\n",
    "    pdf_path = \"QA.pdf\"\n",
    "    folder = \"images\"\n",
    "\n",
    "\n",
    "    doc = fitz.open(pdf_path)\n",
    "    \n",
    "    image_list = doc.get_page_images(page_num)\n",
    "    \n",
    "    for img_index, img in enumerate(image_list):\n",
    "        xref = img[0]\n",
    "        pix = fitz.Pixmap(doc, xref)\n",
    "        pix = fitz.Pixmap(fitz.csRGB, pix)\n",
    "        pix.save(os.path.join(folder, \"page{}_img{}.png\".format(page_num-6, img_index)))\n",
    "\n",
    "def read(file_path, start, end):\n",
    "    \n",
    "    result = []\n",
    "    \n",
    "    with open(file_path, 'rb') as file:\n",
    "        pdf_reader = PdfReader(file)\n",
    "        num_pages = len(pdf_reader.pages)\n",
    "        if end > num_pages:\n",
    "            print(\"end number outside of total pages\")\n",
    "            return None\n",
    "\n",
    "\n",
    "        folder = \"images\"\n",
    "\n",
    "        if os.path.exists(folder):\n",
    "            shutil.rmtree(folder)\n",
    "    \n",
    "        os.makedirs(folder)\n",
    "        q = 0\n",
    "        \n",
    "        for page_num in range(start, end):\n",
    "            page = pdf_reader.pages[page_num]\n",
    "            text = page.extract_text()\n",
    "\n",
    "            if \"Answers and Explanations\" in text:\n",
    "                print(\"bad\")\n",
    "                q = 0\n",
    "\n",
    "            if \"Multiple Choice Questions\" in text:\n",
    "                print(\"good\")\n",
    "                q = 1\n",
    "\n",
    "            if q == 1:\n",
    "                get_pic(page_num)\n",
    "                q = 0\n",
    "                \n",
    "            result.append(text)\n",
    "\n",
    "    return \"\\n\".join(result)"
   ]
  },
  {
   "cell_type": "code",
   "execution_count": 514,
   "id": "422df8b4-6315-4d57-bc2f-af186ce49715",
   "metadata": {
    "scrolled": true
   },
   "outputs": [
    {
     "name": "stdout",
     "output_type": "stream",
     "text": [
      "good\n",
      "good\n",
      "good\n",
      "good\n",
      "good\n",
      "good\n",
      "good\n",
      "good\n",
      "good\n",
      "good\n",
      "good\n",
      "good\n",
      "good\n",
      "good\n",
      "good\n",
      "good\n",
      "good\n",
      "good\n",
      "good\n",
      "good\n",
      "good\n",
      "good\n",
      "good\n",
      "good\n",
      "good\n",
      "good\n",
      "good\n",
      "good\n",
      "good\n",
      "good\n",
      "good\n",
      "good\n",
      "good\n",
      "good\n"
     ]
    }
   ],
   "source": [
    "textbook = \"QA.pdf\"\n",
    "contents = read(textbook, 9, 191)\n",
    "questions_d, answers_d = get_questions_and_answers(contents)\n",
    "#answers_d = clean_sentences(answer)\n",
    "#print(answers_d)"
   ]
  },
  {
   "cell_type": "code",
   "execution_count": 515,
   "id": "a9d7871d-2d6d-4b00-bdec-d555548004da",
   "metadata": {},
   "outputs": [],
   "source": [
    "import re\n",
    "\n",
    "def filter(text):\n",
    "    def license_filter(text):\n",
    "        pattern = r\"© The Author\\(s\\), under exclusive license to Springer Nature Switzerland AG \\d{4}\\s+V\\s*\\.\\s*K\\s*\\.\\s*Kohli\\s*et\\s*al\\.,\\s*Comprehensive Multiple-Choice Questions in Pathology\\s*,\\s*https://doi\\.org/10\\.1007/[\\d\\w\\-_.]+\"\n",
    "        return re.sub(pattern, \"\", text)\n",
    "\n",
    "    text = text.replace(\"\\xa0\", \" \")\n",
    "    text = license_filter(text)\n",
    "    return text\n"
   ]
  },
  {
   "cell_type": "code",
   "execution_count": 516,
   "id": "d0233597-ca46-4d66-894a-98e4d99f4e10",
   "metadata": {},
   "outputs": [],
   "source": [
    "import numpy as np \n",
    "\n",
    "def get_questions_and_answers(text):\n",
    "    questions = []\n",
    "    answers = []\n",
    "\n",
    "    current_Q = []\n",
    "    current_A = []\n",
    "\n",
    "    q = True\n",
    "    a = False\n",
    "    filtered_text = filter(text)\n",
    "\n",
    "    for line in filtered_text.split('\\n')[4:]:\n",
    "        line = line.strip()\n",
    "        if q:\n",
    "            if \"Answers and Explanations\" in line:\n",
    "                questions.append(current_Q)\n",
    "            \n",
    "                current_Q = []\n",
    "                q = False\n",
    "                a = True\n",
    "                continue\n",
    "\n",
    "            \n",
    "            current_Q.append(line)\n",
    "\n",
    "        if a:\n",
    "            if \"Bibliography\" in line:\n",
    "                answers.append(current_A)\n",
    "                current_A = []\n",
    "                q = False\n",
    "                a = False\n",
    "                continue\n",
    "                \n",
    "            current_A.append(line)\n",
    "\n",
    "        if q * a == 0:\n",
    "            if \"Multiple Choice Questions\" in line:\n",
    "                q = True\n",
    "                a = False\n",
    "            \n",
    "    return questions, answers"
   ]
  },
  {
   "cell_type": "code",
   "execution_count": 517,
   "id": "2d666391-052b-4a92-95d5-f45cfe26d81f",
   "metadata": {},
   "outputs": [],
   "source": [
    "def restructure_questions(questions):\n",
    "    result = []\n",
    "    \n",
    "    def split_q(text):\n",
    "        pattern = r\"(?=\\b\\d{1,2}\\.\\s|A\\.\\s*|B\\.\\s*|C\\.\\s*|D\\.\\s*|E\\.\\s*)\"\n",
    "        split_text = re.split(pattern, text)\n",
    "        return [part.strip() for part in split_text if part.strip() and len(part) > 1]\n",
    "\n",
    "    y = 1\n",
    "    \n",
    "    for question_block in questions:\n",
    "        text = \" \".join(question_block)\n",
    "        lists = split_q(text)\n",
    "        current = []\n",
    "        x = 1\n",
    "        \n",
    "        for i in lists:\n",
    "            if re.match(r'^\\d{1,2}\\.\\s', i):\n",
    "                if current:\n",
    "                    result.append([f\"Set_{y}: q{x}\"] + current)\n",
    "                    x += 1\n",
    "                current = [i[3:]]\n",
    "            else: \n",
    "                current.append(i)\n",
    "        \n",
    "        if current:\n",
    "            result.append([f\"Set_{y}: q{x}\"] + current)\n",
    "        y += 1\n",
    "    \n",
    "    return result"
   ]
  },
  {
   "cell_type": "code",
   "execution_count": 518,
   "id": "a80a4d21-20c4-4ac3-a08f-8b87e57b384e",
   "metadata": {},
   "outputs": [],
   "source": [
    "def restructure_answers(answers):\n",
    "    result = []\n",
    "    def split_a(text):\n",
    "        pattern = r'(?<!\\d)\\b\\d+\\.\\s+(?=[A])'\n",
    "        split_text = re.split(pattern, text)\n",
    "        return np.array([part.strip() for part in split_text if part.strip()])\n",
    "    y = 1\n",
    "    for answer in answers:\n",
    "        x = 1\n",
    "        text = \"\\n\".join(answer)\n",
    "        lists = split_a(text)\n",
    "            \n",
    "\n",
    "        \n",
    "        for line in lists:\n",
    "           # line = re.sub(r'^Answer: ', '', line)\n",
    "            current = [f\"Set_{y}: q{x}\"] + [line[:line.find(\"\\n\")], line[line.find(\"\\n\")+1:].replace(\"\\n\", \" \")]\n",
    "            result.append(current)\n",
    "            x += 1\n",
    "        y += 1\n",
    "    return result\n",
    "        "
   ]
  },
  {
   "cell_type": "code",
   "execution_count": 519,
   "id": "f52d399d-b5f4-4d2d-8fdd-b16be57d9dd0",
   "metadata": {},
   "outputs": [],
   "source": [
    "def remove_answers_and_explanations(text):\n",
    "    pattern1 = r'Answers and Explanations.*?((?<!\\.)\\s|$)'\n",
    "    cleaned_text = re.sub(pattern1, '', text, flags=re.DOTALL).strip()\n",
    "    #pattern = r\"(?<![A-E]\\.)(?<=\\.\\s*)[^\\s.]+(\\s+[^\\s.]+)*\\s*$\"\n",
    "    #cleaned_text = re.sub(pattern, '.', text).strip()\n",
    "    return cleaned_text\n",
    "\n",
    "def clean_sentences(double_list):\n",
    "    return [[remove_answers_and_explanations(sentence) for sentence in sublist] for sublist in double_list]\n",
    "\n",
    "\n",
    "\n",
    "def ending(text):\n",
    "    pattern = r\"\\.\\s*[^\\s.]+(\\s+[^\\s.]+)*\\s*$\"\n",
    "    modified_text = re.sub(pattern, '.', text).strip()\n",
    "    return modified_text\n",
    "\n",
    "def explanation(answers):\n",
    "    for answer in answers:\n",
    "        if len(answer) >= 3:\n",
    "            answer[2] = ending(answer[2])\n",
    "    return answers\n",
    "\n"
   ]
  },
  {
   "cell_type": "code",
   "execution_count": 520,
   "id": "bb150e68-ed1e-4016-b095-ab0c98bc5090",
   "metadata": {
    "scrolled": true
   },
   "outputs": [
    {
     "name": "stdout",
     "output_type": "stream",
     "text": [
      "good\n",
      "good\n",
      "good\n",
      "good\n",
      "good\n",
      "good\n",
      "good\n",
      "good\n",
      "good\n",
      "good\n",
      "good\n",
      "good\n",
      "good\n",
      "good\n",
      "good\n",
      "good\n",
      "good\n",
      "good\n",
      "good\n",
      "good\n",
      "good\n",
      "good\n",
      "good\n",
      "good\n",
      "good\n",
      "good\n",
      "good\n",
      "good\n",
      "good\n",
      "good\n",
      "good\n",
      "good\n",
      "good\n",
      "good\n"
     ]
    }
   ],
   "source": [
    "textbook = \"QA.pdf\"\n",
    "contents = read(textbook, 9, 191)\n",
    "questions_d, answers_d = get_questions_and_answers(contents)\n",
    "#answers_d = clean_sentences(answer)\n",
    "#print(answers_d)"
   ]
  },
  {
   "cell_type": "code",
   "execution_count": 521,
   "id": "550fe723-aa27-4f76-a900-4e9169f4cfa4",
   "metadata": {
    "scrolled": true
   },
   "outputs": [],
   "source": [
    "questions = restructure_questions(questions_d)"
   ]
  },
  {
   "cell_type": "code",
   "execution_count": 522,
   "id": "29ed62a4-7773-4628-a2d2-2fa548553597",
   "metadata": {
    "scrolled": true
   },
   "outputs": [],
   "source": [
    "answers = restructure_answers(answers_d)\n",
    "answers = clean_sentences(answers)\n",
    "answers = explanation(answers)\n",
    "#print(answers)"
   ]
  },
  {
   "cell_type": "code",
   "execution_count": 523,
   "id": "84e2ee85-1d6b-40c2-9a46-b493b7be2d00",
   "metadata": {},
   "outputs": [],
   "source": [
    "import pandas as pd\n",
    "\n",
    "q_table = pd.DataFrame(data=questions)\n",
    "q_table.columns = [\"id\", \"Question\", \"A\", \"B\", \"C\", \"D\", \"E\", \"F\"]\n",
    "\n",
    "a_table = pd.DataFrame(data=answers)\n",
    "a_table.columns = [\"id\", \"Answer\", \"explaination\"]"
   ]
  },
  {
   "cell_type": "code",
   "execution_count": 524,
   "id": "91bc5a85-9adc-4f41-83df-5fd1c113b625",
   "metadata": {},
   "outputs": [],
   "source": [
    "a_table = a_table[a_table[\"Answer\"].str[:6] == \"Answer\"].reset_index()"
   ]
  },
  {
   "cell_type": "code",
   "execution_count": 525,
   "id": "c941e836-56e0-4ed1-b8a3-afff6cdba13f",
   "metadata": {},
   "outputs": [],
   "source": [
    "q_table.dropna(how='all')\n",
    "q_table.to_csv('questions.csv', index=False)"
   ]
  },
  {
   "cell_type": "code",
   "execution_count": 526,
   "id": "70059a70-0413-4fec-8844-0bdb8a8a40fa",
   "metadata": {},
   "outputs": [],
   "source": [
    "a_table.dropna(how='all')\n",
    "a_table.to_csv('answers.csv', index=False)"
   ]
  },
  {
   "cell_type": "code",
   "execution_count": 527,
   "id": "9ad34a7f-5cce-4074-b3ba-2909634ba1d3",
   "metadata": {},
   "outputs": [],
   "source": [
    "a_table_m = pd.read_csv('answers.csv')\n",
    "a_table_m['Answer'] = a_table_m['Answer'].str.replace(r'^Answer:\\s*', '', regex=True)\n",
    "a_table_m.to_csv('answers.csv', index=False)"
   ]
  },
  {
   "cell_type": "code",
   "execution_count": 528,
   "id": "456aa4c5-5594-4f79-90e5-24409b10618f",
   "metadata": {
    "scrolled": true
   },
   "outputs": [],
   "source": [
    "new_row = {\n",
    "    'id': 'Set_22: q2', \n",
    "    'Answer': 'C. Meningioma', \n",
    "    'explaination': 'Meningiomas are relatively common neoplasms derived from meningothelial cells of the arachnoid. The World Health organization (WHO) classified meningiomas in three groups'\n",
    "}\n",
    "\n",
    "a_table_m = pd.concat([a_table_m.iloc[:572],row, a_table_m.iloc[572:]]).reset_index(drop=True)\n",
    "a_table_m.to_csv('answers.csv', index=False) ##这里跑一次就行\n",
    "\n",
    "\n",
    "question = [[1,25],[4,5],[4,21],[5,13],[7,5],[7,6],[7,21],[8,14],[8,20],[8,24],[8,46],[9,6],[9,16],[10,9],[10,10],[10,14],[10,14],[12,6],[12,11],[12,12],[12,32],[14,1],[14,13],[14,20],[14,28],[16,21],[16,25],[17,11],[18,7],[18,10],[19,11],[20,3],[20,4],[20,10],[20,11],[20,12],[20,12],[20,13],[20,17],[20,18],[20,19],[20,20],[20,21],[20,23],[20,24],[20,26],[20,27],[20,28],[22,4],[22,27],[22,28],[23,3],[23,5],[23,11],[23,12]]\n",
    "a_table_m['image'] = ' '\n",
    "\n",
    "for set in question:\n",
    "    set_id = 'Set_{}: q{}'.format(set[0], set[1])\n",
    "    if not a_table_m[a_table_m['id'] == set_id].empty:\n",
    "        row_index = a_table_m[a_table_m['id'] == set_id].index[0]\n",
    "        a_table_m.at[row_index, 'image'] = '/images/Set_{}_q{}.png'.format(set[0], set[1])\n",
    "\n",
    "a_table_m.to_csv('answers.csv', index=False)\n"
   ]
  },
  {
   "cell_type": "code",
   "execution_count": 529,
   "id": "23ace0d2-28db-41d6-af58-c0766d7b2045",
   "metadata": {
    "scrolled": true
   },
   "outputs": [],
   "source": [
    "q_table_f = pd.read_csv('questions_f.csv')\n",
    "a_table_f = pd.read_csv('answers.csv')"
   ]
  },
  {
   "cell_type": "code",
   "execution_count": 530,
   "id": "3d93af30-53db-433d-8d55-6121edd6c2e5",
   "metadata": {},
   "outputs": [],
   "source": [
    "table = pd.concat([q_table_f.drop([\"id\"], axis = 1), a_table_f.drop([\"id\"], axis = 1)], axis=1)\n",
    "table.to_csv('final.csv', index=False)"
   ]
  },
  {
   "cell_type": "code",
   "execution_count": 531,
   "id": "1b73b341-7fcf-4e68-b001-bffc5fc42697",
   "metadata": {},
   "outputs": [],
   "source": [
    "a_table_f.drop(columns=['index'])\n",
    "table_json = pd.concat([q_table_f.drop([\"id\"], axis = 1), a_table_f.drop([\"id\"], axis = 1)], axis=1)\n",
    "table_json.to_csv('final.csv', index=False)"
   ]
  },
  {
   "cell_type": "code",
   "execution_count": null,
   "id": "dc7001f9-0201-437f-ab14-83270ef56fb3",
   "metadata": {},
   "outputs": [],
   "source": []
  },
  {
   "cell_type": "code",
   "execution_count": null,
   "id": "64fae9fa-cb0f-455b-8af8-aadad19bdc86",
   "metadata": {},
   "outputs": [],
   "source": []
  },
  {
   "cell_type": "markdown",
   "id": "f1c85d1d-cd21-4b64-aeb8-756fad3b087e",
   "metadata": {},
   "source": [
    "image test below"
   ]
  },
  {
   "cell_type": "code",
   "execution_count": 533,
   "id": "1b9c06ab-16a1-4c00-be0f-27acf1d40579",
   "metadata": {},
   "outputs": [
    {
     "name": "stdout",
     "output_type": "stream",
     "text": [
      "Requirement already satisfied: pymupdf in /Users/jeffreyhe/anaconda3/lib/python3.11/site-packages (1.24.7)\n",
      "Requirement already satisfied: PyMuPDFb==1.24.6 in /Users/jeffreyhe/anaconda3/lib/python3.11/site-packages (from pymupdf) (1.24.6)\n",
      "Note: you may need to restart the kernel to use updated packages.\n"
     ]
    }
   ],
   "source": [
    "pip install pymupdf"
   ]
  },
  {
   "cell_type": "code",
   "execution_count": 534,
   "id": "968b793d-bf72-42f9-bc5b-a66cb04973aa",
   "metadata": {},
   "outputs": [
    {
     "data": {
      "text/plain": [
       "'\\nimport fitz  # PyMuPDF\\nimport os\\nimport shutil\\n\\n# Path to the PDF file\\npdf_path = \"QA.pdf\"\\n# Path to the folder where images will be saved\\nfolder = \"images\"\\n\\nif os.path.exists(folder):\\n    shutil.rmtree(folder)\\n    \\nos.makedirs(folder)\\n\\ndoc = fitz.open(pdf_path)\\n\\nfor i in range(10,190):\\n    # Get the list of images on the page\\n    image_list = doc.get_page_images(i)\\n    \\n    for img_index, img in enumerate(image_list):\\n        xref = img[0]\\n        pix = fitz.Pixmap(doc, xref)\\n        pix = fitz.Pixmap(fitz.csRGB, pix)\\n        pix.save(os.path.join(folder, \"page{}_img{}.png\".format(i-8, img_index)))\\n\\nprint(\"Image extraction completed.\")\\n'"
      ]
     },
     "execution_count": 534,
     "metadata": {},
     "output_type": "execute_result"
    }
   ],
   "source": [
    "\"\"\"\n",
    "import fitz  # PyMuPDF\n",
    "import os\n",
    "import shutil\n",
    "\n",
    "# Path to the PDF file\n",
    "pdf_path = \"QA.pdf\"\n",
    "# Path to the folder where images will be saved\n",
    "folder = \"images\"\n",
    "\n",
    "if os.path.exists(folder):\n",
    "    shutil.rmtree(folder)\n",
    "    \n",
    "os.makedirs(folder)\n",
    "\n",
    "doc = fitz.open(pdf_path)\n",
    "\n",
    "for i in range(10,190):\n",
    "    # Get the list of images on the page\n",
    "    image_list = doc.get_page_images(i)\n",
    "    \n",
    "    for img_index, img in enumerate(image_list):\n",
    "        xref = img[0]\n",
    "        pix = fitz.Pixmap(doc, xref)\n",
    "        pix = fitz.Pixmap(fitz.csRGB, pix)\n",
    "        pix.save(os.path.join(folder, \"page{}_img{}.png\".format(i-8, img_index)))\n",
    "\n",
    "print(\"Image extraction completed.\")\n",
    "\"\"\"\n",
    "\n",
    "\n",
    "\n"
   ]
  },
  {
   "cell_type": "code",
   "execution_count": 535,
   "id": "09382fa3-8b0e-4cd4-bfc1-7dc25f9804b4",
   "metadata": {},
   "outputs": [],
   "source": [
    "last_num = -1\n",
    "img_index = 0\n",
    "counter = 0\n",
    "\n",
    "def get_pic(page_num):\n",
    "    global last_num, img_index,counter\n",
    "    question = [[1,25],[4,5],[4,21],[5,13],[7,5],[7,6],[7,21],[8,14],[8,20],[8,24],[8,46],[9,6],[9,16],[10,9],[10,10],[10,14],[10,14],[12,6],[12,11],[12,12],[12,32],[14,1],[14,13],[14,20],[14,28],[16,21],[16,25],[17,11],[18,7],[18,10],[19,11],[20,3],[20,4],[20,10],[20,11],[20,12],[20,12],[20,13],[20,17],[20,18],[20,19],[20,20],[20,21],[20,23],[20,24],[20,26],[20,27],[20,28],[22,4],[22,27],[22,28],[23,3],[23,5],[23,11],[23,12]]\n",
    "\n",
    "    pdf_path = \"QA.pdf\"\n",
    "    folder = \"images\"\n",
    "\n",
    "    if last_num == page_num:\n",
    "        img_index += 1\n",
    "    else:\n",
    "        img_index = 0\n",
    "\n",
    "    special_page= (49, 94, 112, 142, 155, 172, 184)\n",
    "    if page_num in special_page:\n",
    "        img_index = 1\n",
    "        if last_num == page_num:\n",
    "            img_index += 1\n",
    "\n",
    "    doc = fitz.open(pdf_path)\n",
    "    \n",
    "    image_list = doc.get_page_images(page_num)\n",
    "    \n",
    "    img = image_list[img_index]\n",
    "    \n",
    "    xref = img[0]\n",
    "    pix = fitz.Pixmap(doc, xref)\n",
    "    pix = fitz.Pixmap(fitz.csRGB, pix)\n",
    "    set = question[counter]\n",
    "    counter += 1\n",
    "    pix.save(os.path.join(folder, \"Set_{}_q{}.png\".format(set[0], set[1])))\n",
    "\n",
    "    last_num = page_num\n",
    "    \n",
    "    \n",
    "folder = \"images\"\n",
    "\n",
    "if os.path.exists(folder):\n",
    "    shutil.rmtree(folder)\n",
    "    \n",
    "os.makedirs(folder)\n",
    "\n",
    "for i in page_num:\n",
    "    get_pic(i)"
   ]
  },
  {
   "cell_type": "code",
   "execution_count": 536,
   "id": "2d794b0a-4874-42a9-8b3b-63f0fbb98458",
   "metadata": {},
   "outputs": [],
   "source": [
    "page_num = [11,29,31,36,49,50,51,57,58,58,60,71,73,79,79,79,80,94,95,95,97,112,113,114,115,129,130,136,142,143,149,155,155,156,156,157,157,157,158,158,158,158,159,159,159,160,160,160,172,174,175,184,184,185,185]\n",
    "question = [[1,25],[4,5],[4,21],[5,13],[7,5],[7,6],[7,21],[8,14],[8,20],[8,24],[8,46],[9,6],[9,16],[10,9],[10,10],[10,14],[10,14],[12,6],[12,11],[12,12],[12,32],[14,1],[14,13],[14,20],[14,28],[16,21],[16,25],[17,11],[18,7],[18,10],[19,11],[20,3],[20,4],[20,10],[20,11],[20,12],[20,12],[20,13],[20,17],[20,18],[20,19],[20,20],[20,21],[20,23],[20,24],[20,26],[20,27],[20,28],[22,4],[22,27],[22,28],[23,3],[23,5],[23,11],[23,12]]"
   ]
  }
 ],
 "metadata": {
  "kernelspec": {
   "display_name": "Python 3 (ipykernel)",
   "language": "python",
   "name": "python3"
  },
  "language_info": {
   "codemirror_mode": {
    "name": "ipython",
    "version": 3
   },
   "file_extension": ".py",
   "mimetype": "text/x-python",
   "name": "python",
   "nbconvert_exporter": "python",
   "pygments_lexer": "ipython3",
   "version": "3.11.5"
  }
 },
 "nbformat": 4,
 "nbformat_minor": 5
}
