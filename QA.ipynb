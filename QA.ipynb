{
 "cells": [
  {
   "cell_type": "code",
   "execution_count": 1,
   "id": "d1272493-0b42-4987-b8e3-68ff33fae313",
   "metadata": {},
   "outputs": [
    {
     "name": "stdout",
     "output_type": "stream",
     "text": [
      "Requirement already satisfied: PyPDF2 in /Users/cirozhang/anaconda3/lib/python3.11/site-packages (3.0.1)\n",
      "Requirement already satisfied: pymupdf in /Users/cirozhang/anaconda3/lib/python3.11/site-packages (1.24.7)\n",
      "Requirement already satisfied: Pillow in /Users/cirozhang/anaconda3/lib/python3.11/site-packages (10.2.0)\n",
      "Requirement already satisfied: pytesseract in /Users/cirozhang/anaconda3/lib/python3.11/site-packages (0.3.10)\n",
      "Requirement already satisfied: PyMuPDFb==1.24.6 in /Users/cirozhang/anaconda3/lib/python3.11/site-packages (from pymupdf) (1.24.6)\n",
      "Requirement already satisfied: packaging>=21.3 in /Users/cirozhang/anaconda3/lib/python3.11/site-packages (from pytesseract) (23.2)\n"
     ]
    }
   ],
   "source": [
    "!pip install PyPDF2\n",
    "!pip install pymupdf Pillow pytesseract"
   ]
  },
  {
   "cell_type": "code",
   "execution_count": 1,
   "id": "6087b5eb-05e4-4ac6-bd79-669e623c596e",
   "metadata": {},
   "outputs": [],
   "source": [
    "from PyPDF2 import PdfReader\n",
    "\n",
    "def read(file_path, start, end):\n",
    "    result = []\n",
    "    \n",
    "    with open(file_path, 'rb') as file:\n",
    "        pdf_reader = PdfReader(file)\n",
    "        num_pages = len(pdf_reader.pages)\n",
    "        if end > num_pages:\n",
    "            print(\"end number outside of total pages\")\n",
    "            return None\n",
    "        \n",
    "        for page_num in range(start, end):\n",
    "            page = pdf_reader.pages[page_num]\n",
    "            text = page.extract_text()\n",
    "            result.append(text)\n",
    "    return \"\\n\".join(result)"
   ]
  },
  {
   "cell_type": "code",
   "execution_count": 2,
   "id": "a9d7871d-2d6d-4b00-bdec-d555548004da",
   "metadata": {},
   "outputs": [],
   "source": [
    "import re\n",
    "\n",
    "def filter(text):\n",
    "    def license_filter(text):\n",
    "        pattern = r\"© The Author\\(s\\), under exclusive license to Springer Nature Switzerland AG \\d{4}\\s+V\\s*\\.\\s*K\\s*\\.\\s*Kohli\\s*et\\s*al\\.,\\s*Comprehensive Multiple-Choice Questions in Pathology\\s*,\\s*https://doi\\.org/10\\.1007/[\\d\\w\\-_.]+\"\n",
    "        return re.sub(pattern, \"\", text)\n",
    "\n",
    "    text = text.replace(\"\\xa0\", \" \")\n",
    "    text = license_filter(text)\n",
    "    return text\n"
   ]
  },
  {
   "cell_type": "code",
   "execution_count": 3,
   "id": "d0233597-ca46-4d66-894a-98e4d99f4e10",
   "metadata": {},
   "outputs": [],
   "source": [
    "import numpy as np \n",
    "\n",
    "def get_questions_and_answers(text):\n",
    "    questions = []\n",
    "    answers = []\n",
    "\n",
    "    current_Q = []\n",
    "    current_A = []\n",
    "\n",
    "    q = True\n",
    "    a = False\n",
    "    filtered_text = filter(text)\n",
    "\n",
    "    for line in filtered_text.split('\\n')[4:]:\n",
    "        line = line.strip()\n",
    "        if q:\n",
    "            if \"Answers and Explanations\" in line:\n",
    "                questions.append(current_Q)\n",
    "            \n",
    "                current_Q = []\n",
    "                q = False\n",
    "                a = True\n",
    "                continue\n",
    "                \n",
    "            current_Q.append(line)\n",
    "\n",
    "        if a:\n",
    "            if \"Bibliography\" in line:\n",
    "                answers.append(current_A)\n",
    "                current_A = []\n",
    "                q = False\n",
    "                a = False\n",
    "                continue\n",
    "                \n",
    "            current_A.append(line)\n",
    "\n",
    "        if q * a == 0:\n",
    "            if \"Multiple Choice Questions\" in line:\n",
    "                q = True\n",
    "                a = False\n",
    "            \n",
    "    return questions, answers"
   ]
  },
  {
   "cell_type": "code",
   "execution_count": 4,
   "id": "2d666391-052b-4a92-95d5-f45cfe26d81f",
   "metadata": {},
   "outputs": [],
   "source": [
    "def restructure_questions(questions):\n",
    "    result = []\n",
    "    \n",
    "    def split_q(text):\n",
    "        pattern = r\"(?=\\b\\d{1,2}\\.\\s|A\\.\\s*|B\\.\\s*|C\\.\\s*|D\\.\\s*|E\\.\\s*)\"\n",
    "        split_text = re.split(pattern, text)\n",
    "        return [part.strip() for part in split_text if part.strip() and len(part) > 1]\n",
    "\n",
    "    y = 1\n",
    "    \n",
    "    for question_block in questions:\n",
    "        text = \" \".join(question_block)\n",
    "        lists = split_q(text)\n",
    "        current = []\n",
    "        x = 1\n",
    "        \n",
    "        for i in lists:\n",
    "            if re.match(r'^\\d{1,2}\\.\\s', i):\n",
    "                if current:\n",
    "                    result.append([f\"Set_{y}: q{x}\"] + current)\n",
    "                    x += 1\n",
    "                current = [i[3:]]\n",
    "            else: \n",
    "                current.append(i)\n",
    "        \n",
    "        if current:\n",
    "            result.append([f\"Set_{y}: q{x}\"] + current)\n",
    "        y += 1\n",
    "    \n",
    "    return result"
   ]
  },
  {
   "cell_type": "code",
   "execution_count": 5,
   "id": "a80a4d21-20c4-4ac3-a08f-8b87e57b384e",
   "metadata": {},
   "outputs": [],
   "source": [
    "def restructure_answers(answers):\n",
    "    result = []\n",
    "    def split_a(text):\n",
    "        pattern = r\"\\d+\\.\\s\"\n",
    "        split_text = re.split(pattern, text)\n",
    "        return np.array([part.strip() for part in split_text if part.strip()])\n",
    "    y = 1\n",
    "    for answer in answers:\n",
    "        x = 1\n",
    "        text = \"\\n\".join(answer)\n",
    "        lists = split_a(text)\n",
    "            \n",
    "\n",
    "        \n",
    "        for line in lists:\n",
    "            current = [f\"Set_{y}: q{x}\"] + [line[:line.find(\"\\n\")], line[line.find(\"\\n\")+1:].replace(\"\\n\", \" \")]\n",
    "            result.append(current)\n",
    "            x += 1\n",
    "        y += 1\n",
    "    return result\n",
    "        "
   ]
  },
  {
   "cell_type": "code",
   "execution_count": null,
   "id": "f52d399d-b5f4-4d2d-8fdd-b16be57d9dd0",
   "metadata": {},
   "outputs": [],
   "source": []
  },
  {
   "cell_type": "code",
   "execution_count": null,
   "id": "d8a0def6-814f-4afc-86e2-0e1a4576d032",
   "metadata": {},
   "outputs": [],
   "source": [
    "import fitz  \n",
    "import io\n",
    "from PIL import Image\n",
    "\n",
    "textbook = \"QA.pdf\"\n",
    "textpic = fitz.open(textbook)\n",
    "\n",
    "for page_index in range(len(textpic)):\n",
    "    page = textpic.load_page(page_index)\n",
    "    image_list = page.get_images(full=True)\n",
    "\n",
    "    if image_list:\n",
    "        print(f\"[+] Found {len(image_list)} images on page {page_index + 1}\")\n",
    "    else:\n",
    "        print(f\"[!] No images found on page {page_index + 1}\")\n",
    "\n",
    "    for image_index, img in enumerate(image_list, start=1):\n",
    "        xref = img[0]\n",
    "        \n",
    "        base_image = textpic.extract_image(xref)\n",
    "        image_bytes = base_image[\"image\"]\n",
    "\n",
    "        image_ext = base_image[\"ext\"]\n",
    "\n",
    "        image = Image.open(io.BytesIO(image_bytes))\n",
    "\n",
    "        image_filename = f\"page{page_index + 1}_{image_index}.{image_ext}\"\n",
    "        image.save(open(image_filename, \"wb\"))\n",
    "\n",
    "        print(f\"Saved image {image_filename}\")"
   ]
  },
  {
   "cell_type": "code",
   "execution_count": 6,
   "id": "bb150e68-ed1e-4016-b095-ab0c98bc5090",
   "metadata": {},
   "outputs": [],
   "source": [
    "textbook = \"QA.pdf\"\n",
    "contents = read(textbook, 9, 191)\n",
    "questions_d, answers_d = get_questions_and_answers(contents)"
   ]
  },
  {
   "cell_type": "code",
   "execution_count": 7,
   "id": "550fe723-aa27-4f76-a900-4e9169f4cfa4",
   "metadata": {},
   "outputs": [],
   "source": [
    "questions = restructure_questions(questions_d)"
   ]
  },
  {
   "cell_type": "code",
   "execution_count": 8,
   "id": "29ed62a4-7773-4628-a2d2-2fa548553597",
   "metadata": {},
   "outputs": [],
   "source": [
    "answers = restructure_answers(answers_d)"
   ]
  },
  {
   "cell_type": "code",
   "execution_count": 9,
   "id": "84e2ee85-1d6b-40c2-9a46-b493b7be2d00",
   "metadata": {},
   "outputs": [],
   "source": [
    "import pandas as pd\n",
    "\n",
    "q_table = pd.DataFrame(data=questions)\n",
    "q_table.columns = [\"id\", \"Question\", \"A\", \"B\", \"C\", \"D\", \"E\", \"F\"]\n",
    "\n",
    "a_table = pd.DataFrame(data=answers)\n",
    "a_table.columns = [\"id\", \"Answer\", \"explaination\"]"
   ]
  },
  {
   "cell_type": "code",
   "execution_count": 10,
   "id": "91bc5a85-9adc-4f41-83df-5fd1c113b625",
   "metadata": {},
   "outputs": [],
   "source": [
    "a_table = a_table[a_table[\"Answer\"].str[:6] == \"Answer\"].reset_index()"
   ]
  },
  {
   "cell_type": "code",
   "execution_count": 11,
   "id": "c941e836-56e0-4ed1-b8a3-afff6cdba13f",
   "metadata": {},
   "outputs": [],
   "source": [
    "q_table.dropna(how='all')\n",
    "q_table.to_csv('questions.csv', index=False)"
   ]
  },
  {
   "cell_type": "code",
   "execution_count": 12,
   "id": "70059a70-0413-4fec-8844-0bdb8a8a40fa",
   "metadata": {},
   "outputs": [],
   "source": [
    "a_table.dropna(how='all')\n",
    "a_table.to_csv('answers.csv', index=False)"
   ]
  },
  {
   "cell_type": "code",
   "execution_count": 13,
   "id": "3d93af30-53db-433d-8d55-6121edd6c2e5",
   "metadata": {},
   "outputs": [],
   "source": [
    "table = pd.concat([q_table.drop([\"id\"], axis = 1), a_table.drop([\"id\"], axis = 1)], axis=1)\n",
    "table.to_csv('final.csv', index=False)"
   ]
  },
  {
   "cell_type": "code",
   "execution_count": null,
   "id": "1b73b341-7fcf-4e68-b001-bffc5fc42697",
   "metadata": {},
   "outputs": [],
   "source": []
  },
  {
   "cell_type": "code",
   "execution_count": null,
   "id": "8134be44-5439-4f7a-8dca-7172d2af0265",
   "metadata": {},
   "outputs": [],
   "source": []
  },
  {
   "cell_type": "code",
   "execution_count": null,
   "id": "194f4001-5ddc-433f-97c0-8f85e351afe1",
   "metadata": {},
   "outputs": [],
   "source": []
  },
  {
   "cell_type": "code",
   "execution_count": null,
   "id": "1622f7e4-4fc6-47db-babb-616f774f7a96",
   "metadata": {},
   "outputs": [],
   "source": []
  },
  {
   "cell_type": "code",
   "execution_count": null,
   "id": "5d858127-fb4b-4487-aa14-9886a6d21d71",
   "metadata": {},
   "outputs": [],
   "source": []
  }
 ],
 "metadata": {
  "kernelspec": {
   "display_name": "Python 3 (ipykernel)",
   "language": "python",
   "name": "python3"
  },
  "language_info": {
   "codemirror_mode": {
    "name": "ipython",
    "version": 3
   },
   "file_extension": ".py",
   "mimetype": "text/x-python",
   "name": "python",
   "nbconvert_exporter": "python",
   "pygments_lexer": "ipython3",
   "version": "3.11.5"
  }
 },
 "nbformat": 4,
 "nbformat_minor": 5
}
